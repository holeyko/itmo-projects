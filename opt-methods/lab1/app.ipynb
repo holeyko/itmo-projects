{
 "cells": [
  {
   "cell_type": "code",
   "execution_count": null,
   "outputs": [],
   "source": [
    "import random\n",
    "import numpy as np\n",
    "\n",
    "\n",
    "class Function:\n",
    "    def __init__(self, value, delt=0.001):\n",
    "        self.value = value\n",
    "\n",
    "        def grad(x):\n",
    "            array = []\n",
    "            for i in range(len(x)):\n",
    "                x[i] += delt\n",
    "                first_val = value(x)\n",
    "                x[i] -= 2 * delt\n",
    "                second_val = value(x)\n",
    "                x[i] += delt\n",
    "                array.append((first_val - second_val) / (2 * delt))\n",
    "            return np.array(array)\n",
    "\n",
    "        self.grad = grad\n",
    "\n",
    "\n",
    "wolfe_cond_template = lambda c1, c2, x, func, gk: lambda a, b: not (\n",
    "        (func.value(x - ((a + b) / 2) * gk) <= (func.value(x) + c1 * ((a + b) / 2) * np.dot(gk, -gk))) and (\n",
    "        np.dot(func.grad(x - ((a + b) / 2) * gk), -gk) >= c2 * np.dot(gk, -gk)))\n",
    "\n",
    "wolfe_cond = lambda: \"\"\n",
    "\n",
    "\n",
    "def grad_desc(func, lr, x, eps, is_wolfe=False, left_wolfe_bound=0.1, right_wolfe_bound=0.9, need_points=True,\n",
    "              max_num_of_step=1000):\n",
    "    global wolfe_cond\n",
    "    num_of_steps = 0\n",
    "    points = [x]\n",
    "    while True:\n",
    "        prev_x = x\n",
    "        grad = func.grad(x)\n",
    "        if is_wolfe:\n",
    "            wolfe_cond = wolfe_cond_template(left_wolfe_bound, right_wolfe_bound, x, func, grad)\n",
    "        x = x - lr(Function(lambda a: func.value(x - a * grad)), is_wolfe) * grad\n",
    "        if need_points:\n",
    "            points.append(x)\n",
    "        else:\n",
    "            points = [x]\n",
    "        num_of_steps += 1\n",
    "        if abs(func.value(x) - func.value(prev_x)) < eps or num_of_steps >= max_num_of_step:\n",
    "            break\n",
    "\n",
    "    if need_points: return np.array(points)\n",
    "    return (points[0], num_of_steps)\n",
    "\n",
    "\n",
    "def right_border_calc(func):\n",
    "    right_start = 0.0000001\n",
    "    zero = func.value(0)\n",
    "    while zero >= func.value(right_start):\n",
    "        right_start *= 2\n",
    "\n",
    "    return right_start\n",
    "\n",
    "\n",
    "def dichotomy(func, a_1, a_2, eps, delt, is_wolfe=False):\n",
    "    cond = lambda a, b: abs(a - b) >= eps\n",
    "    if is_wolfe:\n",
    "        cond = wolfe_cond\n",
    "    while cond(a_1, a_2):\n",
    "        new_a_1 = (a_1 + a_2) / 2 - delt\n",
    "        new_a_2 = (a_1 + a_2) / 2 + delt\n",
    "        fv1 = func.value(new_a_1)\n",
    "        fv2 = func.value(new_a_2)\n",
    "        if fv2 > fv1:\n",
    "            a_2 = new_a_2\n",
    "        elif fv2 < fv1:\n",
    "            a_1 = new_a_1\n",
    "        else:\n",
    "            a_1 = new_a_1\n",
    "            a_2 = new_a_2\n",
    "    return (a_1 + a_2) / 2\n",
    "\n",
    "\n",
    "def func_generator(n, k):\n",
    "    vals = [random.uniform(1.0, k) for _ in range(n)]\n",
    "    vals.sort()\n",
    "    vals[0] = 1\n",
    "    vals[n - 1] = k\n",
    "    q, r = np.linalg.qr(np.random.rand(n, n))\n",
    "    matr = np.matmul(np.matmul(q, np.diag(vals)), np.transpose(q))\n",
    "    return matr\n",
    "\n",
    "\n",
    "class GeneratedFunctionCalculator(Function):\n",
    "    def __init__(self, matr):\n",
    "        super().__init__(lambda x: sum(matr[i][j] * x[i] * x[j] for i in range(len(x)) for j in range(len(x))))\n",
    "        self.matr = matr"
   ],
   "metadata": {
    "collapsed": false
   }
  },
  {
   "cell_type": "code",
   "execution_count": null,
   "outputs": [],
   "source": [
    "import matplotlib.pyplot as plt\n",
    "\n",
    "\n",
    "def lr_wrapper(eps, delt):\n",
    "    return lambda func, is_wolfe=False: dichotomy(func, 0, right_border_calc(func), eps, delt, is_wolfe)\n",
    "\n",
    "\n",
    "def func1(x):\n",
    "    return (x[0] - 2) ** 2 + 3 * (9 - x[1]) ** 2\n",
    "\n",
    "\n",
    "def func2(x):\n",
    "    return 20 * (x[0] - 5) ** 2 + (x[1] - 3) ** 2\n",
    "\n",
    "\n",
    "def func3(x):\n",
    "    return (x[0] - 5) ** 2 + (x[1] - 4) ** 2\n",
    "\n",
    "\n",
    "def visualise_points(func, points, title=\"\"):\n",
    "    XX = np.linspace(min(points[-1][0], points[0][0]) - 30, max(points[-1][0], points[0][0]) + 30, 500)\n",
    "    YY = np.linspace(min(points[-1][1], points[0][1]) - 30, max(points[-1][1], points[0][1]) + 30, 500)\n",
    "    X, Y = np.meshgrid(XX, YY)\n",
    "    plt.contour(X, Y, func.value([X, Y]), 20)\n",
    "\n",
    "    plt.plot(points[:, 0], points[:, 1], marker='.')\n",
    "    plt.plot(points[0][0], points[0][1], 'og')\n",
    "    plt.plot(points[-1][0], points[-1][1], 'or')\n",
    "    plt.xlabel(\"x\")\n",
    "    plt.ylabel(\"y\")\n",
    "    plt.title(title)\n",
    "    plt.show()\n",
    "\n",
    "\n",
    "functions = [Function(func) for func in [func1, func2, func3]]"
   ],
   "metadata": {
    "collapsed": false
   }
  },
  {
   "cell_type": "markdown",
   "source": [
    "### 4(a) Сходимость с постоянным шагом"
   ],
   "metadata": {
    "collapsed": false
   }
  },
  {
   "cell_type": "code",
   "execution_count": null,
   "outputs": [],
   "source": [
    "def test_convergence_const_lr(func, name):\n",
    "    lr = 0.01\n",
    "    eps = 0.0001\n",
    "    x = np.array((13., 24.))\n",
    "\n",
    "    print('Const rate: ' + str(lr) + ' | Start x: ' + str(x) + ' | Epsilon: ' + str(eps))\n",
    "    points = grad_desc(func, lambda *_: lr, x, eps)\n",
    "    print('Count steps: ' + str(len(points)))\n",
    "    print('Final point: ' + str(points[-1]))\n",
    "    visualise_points(func, points, name + ' (Const rate)')\n",
    "    print()\n",
    "\n",
    "\n",
    "for i in range(len(functions)):\n",
    "    test_convergence_const_lr(functions[i], 'Function №' + str(i + 1))"
   ],
   "metadata": {
    "collapsed": false
   }
  },
  {
   "cell_type": "markdown",
   "source": [
    "### 4(b) Сравнение количества"
   ],
   "metadata": {
    "collapsed": false
   }
  },
  {
   "cell_type": "code",
   "execution_count": null,
   "outputs": [],
   "source": [
    "def compare_count_calculations(func, name):\n",
    "    lr = 0.01\n",
    "    eps = 0.001\n",
    "    delt = 0.0001\n",
    "    x = np.array((13., 24.))\n",
    "\n",
    "    print('Const rate: ' + str(lr) + ' | Start x: ' + str(x) + ' | Epsilon: ' + str(eps))\n",
    "    points_const_lr = grad_desc(func, lambda *_: lr, x, eps)\n",
    "    print('Count steps with const rate: ' + str(len(points_const_lr)))\n",
    "    print('Final point with const rate: ' + str(points_const_lr[-1]))\n",
    "    visualise_points(func, points_const_lr, name + ' (Const rate)')\n",
    "\n",
    "    print('Start x: ' + str(x) + ' | Epsilon: ' + str(eps) + ' | Delta: ' + str(delt))\n",
    "    points_dichotomy = grad_desc(func, lr_wrapper(eps, delt), x, eps)\n",
    "    print('Count steps with dichotomy: ' + str(len(points_dichotomy)))\n",
    "    print('Final point with dichotomy: ' + str(points_dichotomy[-1]))\n",
    "    visualise_points(func, points_dichotomy, name + ' (Dichotomy)')\n",
    "\n",
    "    print('Start x: ' + str(x) + ' Epsilon: ' + str(eps) + ' | Delta: ' + str(delt))\n",
    "    points_dichotomy_wolfe = grad_desc(func, lr_wrapper(eps, delt), x, eps, is_wolfe=True)\n",
    "    print('Count steps with dichotomy(Wolfe): ' + str(len(points_dichotomy_wolfe)))\n",
    "    print('Final point with dichotomy(Wolfe): ' + str(points_dichotomy_wolfe[-1]))\n",
    "    visualise_points(func, points_dichotomy_wolfe, name + ' (Dichotomy(Wolfe))')\n",
    "    print()\n",
    "\n",
    "\n",
    "for i in range(len(functions)):\n",
    "    compare_count_calculations(functions[i], 'Function №' + str(i + 1))"
   ],
   "metadata": {
    "collapsed": false
   }
  },
  {
   "cell_type": "markdown",
   "source": [
    "### 4(c) Тест на разные начальные точки"
   ],
   "metadata": {
    "collapsed": false
   }
  },
  {
   "cell_type": "code",
   "execution_count": null,
   "outputs": [],
   "source": [
    "def test_different_start_points(func, name):\n",
    "    start_x = [np.array(x) for x in [(13., 22.), (-5., 11.)]]\n",
    "    for x in start_x:\n",
    "        lr = 0.01\n",
    "        eps = 0.001\n",
    "        delt = 0.0001\n",
    "\n",
    "        print('Const rate: ' + str(lr) + ' | Start x: ' + str(x) + ' | Epsilon: ' + str(eps))\n",
    "        points_const_lr = grad_desc(func, lambda *_: lr, x, eps)\n",
    "        print('Count steps with const rate: ' + str(len(points_const_lr)))\n",
    "        print('Final point with const rate: ' + str(points_const_lr[-1]))\n",
    "        visualise_points(func, points_const_lr, name + ' (Const rate)')\n",
    "\n",
    "        print('Start x: ' + str(x) + ' | Epsilon: ' + str(eps) + ' | Delta: ' + str(delt))\n",
    "        points_dichotomy = grad_desc(func, lr_wrapper(eps, delt), x, eps)\n",
    "        print('Count steps with dichotomy: ' + str(len(points_dichotomy)))\n",
    "        print('Final point with dichotomy: ' + str(points_dichotomy[-1]))\n",
    "        visualise_points(func, points_dichotomy, name + ' (Dichotomy)')\n",
    "        print()\n",
    "\n",
    "\n",
    "for i in range(len(functions)):\n",
    "    test_different_start_points(functions[i], 'Function №' + str(i + 1))"
   ],
   "metadata": {
    "collapsed": false
   }
  },
  {
   "cell_type": "markdown",
   "source": [
    "### 4(d) Исследование влияния нормализации"
   ],
   "metadata": {
    "collapsed": false
   }
  },
  {
   "cell_type": "code",
   "execution_count": null,
   "outputs": [],
   "source": [
    "def test_scaling(func, name):\n",
    "    func_scale = Function(lambda x: func.value(np.array([x[0], 2 ** x[1]])))\n",
    "    eps = 0.001\n",
    "    delt = 0.0001\n",
    "    x = np.array((13., 24.))\n",
    "\n",
    "    print(name)\n",
    "    print('Epsilon: ' + str(eps) + ' | Delta: ' + str(delt))\n",
    "    res_func = grad_desc(func, lr_wrapper(eps, delt), x, eps, need_points=False)\n",
    "    print('Count steps of usual function: ' + str(res_func[1]))\n",
    "    res_scaling_func = grad_desc(func_scale, lr_wrapper(eps, delt), x, eps, need_points=False)\n",
    "    print('Count steps of scaling function: ' + str(res_scaling_func[1]))\n",
    "    print()\n",
    "\n",
    "generated_functions = [GeneratedFunctionCalculator(func_generator(2, k)) for k in range(10000, 10003)]\n",
    "for i in range(len(generated_functions)):\n",
    "    test_scaling(generated_functions[i], 'Generated Function №' + str(i + 1))"
   ],
   "metadata": {
    "collapsed": false
   }
  },
  {
   "cell_type": "markdown",
   "source": [
    "### 6 Исследование зависимости числа итераций от размерности пространства и числа обусловленности функции"
   ],
   "metadata": {
    "collapsed": false
   }
  },
  {
   "cell_type": "code",
   "execution_count": null,
   "outputs": [],
   "source": [
    "from_nk_to_num_of_steps = [[]]\n",
    "x = []\n",
    "y = []\n",
    "z = []\n",
    "cnst = 10\n",
    "middle = 0\n",
    "num_of_steps = 0\n",
    "for n in range(2, 1001):\n",
    "    for k in range(1, 1001):\n",
    "        if (k % cnst == 0 and n % cnst == 0):\n",
    "            x.append(n)\n",
    "            y.append(k)\n",
    "            z.append(grad_desc(\n",
    "                func=GeneratedFunctionCalculator(func_generator(n, k)),\n",
    "                lr=lr_wrapper(0.01, 0.001),\n",
    "                x=np.array([20., 20.]), eps=0.1, need_points=False)[1])\n",
    "            middle += z[len(z) - 1]\n",
    "            num_of_steps += 1\n",
    "\n",
    "print(middle / num_of_steps)\n",
    "x = np.asarray(x)\n",
    "y = np.asarray(y)\n",
    "z = np.asarray(z)\n",
    "ax = plt.axes(projection='3d')\n",
    "ax.grid()\n",
    "ax.plot_trisurf(x, y, z, cmap='viridis', edgecolor='none')\n",
    "ax.figure.set_size_inches(15, 15)\n",
    "plt.show()"
   ],
   "metadata": {
    "collapsed": false
   }
  },
  {
   "cell_type": "code",
   "execution_count": null,
   "outputs": [],
   "source": [],
   "metadata": {
    "collapsed": false
   }
  }
 ],
 "metadata": {
  "kernelspec": {
   "display_name": "Python 3",
   "language": "python",
   "name": "python3"
  },
  "language_info": {
   "codemirror_mode": {
    "name": "ipython",
    "version": 2
   },
   "file_extension": ".py",
   "mimetype": "text/x-python",
   "name": "python",
   "nbconvert_exporter": "python",
   "pygments_lexer": "ipython2",
   "version": "2.7.6"
  }
 },
 "nbformat": 4,
 "nbformat_minor": 0
}
